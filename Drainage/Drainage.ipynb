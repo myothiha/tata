{
 "cells": [
  {
   "cell_type": "code",
   "execution_count": 1,
   "metadata": {},
   "outputs": [],
   "source": [
    "import pandas as pd"
   ]
  },
  {
   "cell_type": "code",
   "execution_count": 2,
   "metadata": {},
   "outputs": [
    {
     "data": {
      "text/html": [
       "<div>\n",
       "<style scoped>\n",
       "    .dataframe tbody tr th:only-of-type {\n",
       "        vertical-align: middle;\n",
       "    }\n",
       "\n",
       "    .dataframe tbody tr th {\n",
       "        vertical-align: top;\n",
       "    }\n",
       "\n",
       "    .dataframe thead th {\n",
       "        text-align: right;\n",
       "    }\n",
       "</style>\n",
       "<table border=\"1\" class=\"dataframe\">\n",
       "  <thead>\n",
       "    <tr style=\"text-align: right;\">\n",
       "      <th></th>\n",
       "      <th>date</th>\n",
       "      <th>Drainage_observed</th>\n",
       "      <th>Rain</th>\n",
       "      <th>SWC_Simulated_GE15Y</th>\n",
       "      <th>LE</th>\n",
       "    </tr>\n",
       "  </thead>\n",
       "  <tbody>\n",
       "    <tr>\n",
       "      <th>1</th>\n",
       "      <td>2013-01-01 00:00:00</td>\n",
       "      <td>0</td>\n",
       "      <td>1.5</td>\n",
       "      <td>32.85</td>\n",
       "      <td>0.070709</td>\n",
       "    </tr>\n",
       "    <tr>\n",
       "      <th>2</th>\n",
       "      <td>2013-01-01 01:00:00</td>\n",
       "      <td>0</td>\n",
       "      <td>0.9</td>\n",
       "      <td>32.85</td>\n",
       "      <td>-0.112658</td>\n",
       "    </tr>\n",
       "    <tr>\n",
       "      <th>3</th>\n",
       "      <td>2013-01-01 02:00:00</td>\n",
       "      <td>0</td>\n",
       "      <td>1.7</td>\n",
       "      <td>32.85</td>\n",
       "      <td>-0.480248</td>\n",
       "    </tr>\n",
       "    <tr>\n",
       "      <th>4</th>\n",
       "      <td>2013-01-01 03:00:00</td>\n",
       "      <td>0</td>\n",
       "      <td>1.1</td>\n",
       "      <td>32.85</td>\n",
       "      <td>-0.970548</td>\n",
       "    </tr>\n",
       "    <tr>\n",
       "      <th>5</th>\n",
       "      <td>2013-01-01 04:00:00</td>\n",
       "      <td>0</td>\n",
       "      <td>0.1</td>\n",
       "      <td>32.85</td>\n",
       "      <td>-1.572643</td>\n",
       "    </tr>\n",
       "  </tbody>\n",
       "</table>\n",
       "</div>"
      ],
      "text/plain": [
       "                 date Drainage_observed Rain SWC_Simulated_GE15Y        LE\n",
       "1 2013-01-01 00:00:00                 0  1.5               32.85  0.070709\n",
       "2 2013-01-01 01:00:00                 0  0.9               32.85 -0.112658\n",
       "3 2013-01-01 02:00:00                 0  1.7               32.85 -0.480248\n",
       "4 2013-01-01 03:00:00                 0  1.1               32.85 -0.970548\n",
       "5 2013-01-01 04:00:00                 0  0.1               32.85 -1.572643"
      ]
     },
     "execution_count": 2,
     "metadata": {},
     "output_type": "execute_result"
    }
   ],
   "source": [
    "df = pd.read_excel(\"Drainage.xlsx\").drop(index = 0)\n",
    "df.head()"
   ]
  },
  {
   "cell_type": "code",
   "execution_count": 3,
   "metadata": {},
   "outputs": [
    {
     "data": {
      "text/plain": [
       "date                   0\n",
       "Drainage_observed      0\n",
       "Rain                   0\n",
       "SWC_Simulated_GE15Y    0\n",
       "LE                     0\n",
       "dtype: int64"
      ]
     },
     "execution_count": 3,
     "metadata": {},
     "output_type": "execute_result"
    }
   ],
   "source": [
    "df.isna().sum()"
   ]
  },
  {
   "cell_type": "markdown",
   "metadata": {},
   "source": [
    "## Formula 1"
   ]
  },
  {
   "cell_type": "code",
   "execution_count": 4,
   "metadata": {},
   "outputs": [
    {
     "data": {
      "text/html": [
       "<div>\n",
       "<style scoped>\n",
       "    .dataframe tbody tr th:only-of-type {\n",
       "        vertical-align: middle;\n",
       "    }\n",
       "\n",
       "    .dataframe tbody tr th {\n",
       "        vertical-align: top;\n",
       "    }\n",
       "\n",
       "    .dataframe thead th {\n",
       "        text-align: right;\n",
       "    }\n",
       "</style>\n",
       "<table border=\"1\" class=\"dataframe\">\n",
       "  <thead>\n",
       "    <tr style=\"text-align: right;\">\n",
       "      <th></th>\n",
       "      <th>date</th>\n",
       "      <th>Drainage_observed</th>\n",
       "      <th>Rain</th>\n",
       "      <th>SWC_Simulated_GE15Y</th>\n",
       "      <th>LE</th>\n",
       "      <th>ET</th>\n",
       "    </tr>\n",
       "  </thead>\n",
       "  <tbody>\n",
       "    <tr>\n",
       "      <th>1</th>\n",
       "      <td>2013-01-01 00:00:00</td>\n",
       "      <td>0</td>\n",
       "      <td>1.5</td>\n",
       "      <td>32.85</td>\n",
       "      <td>0.070709</td>\n",
       "      <td>0.000103</td>\n",
       "    </tr>\n",
       "    <tr>\n",
       "      <th>2</th>\n",
       "      <td>2013-01-01 01:00:00</td>\n",
       "      <td>0</td>\n",
       "      <td>0.9</td>\n",
       "      <td>32.85</td>\n",
       "      <td>-0.112658</td>\n",
       "      <td>-0.000164</td>\n",
       "    </tr>\n",
       "    <tr>\n",
       "      <th>3</th>\n",
       "      <td>2013-01-01 02:00:00</td>\n",
       "      <td>0</td>\n",
       "      <td>1.7</td>\n",
       "      <td>32.85</td>\n",
       "      <td>-0.480248</td>\n",
       "      <td>-0.0007</td>\n",
       "    </tr>\n",
       "    <tr>\n",
       "      <th>4</th>\n",
       "      <td>2013-01-01 03:00:00</td>\n",
       "      <td>0</td>\n",
       "      <td>1.1</td>\n",
       "      <td>32.85</td>\n",
       "      <td>-0.970548</td>\n",
       "      <td>-0.001415</td>\n",
       "    </tr>\n",
       "    <tr>\n",
       "      <th>5</th>\n",
       "      <td>2013-01-01 04:00:00</td>\n",
       "      <td>0</td>\n",
       "      <td>0.1</td>\n",
       "      <td>32.85</td>\n",
       "      <td>-1.572643</td>\n",
       "      <td>-0.002293</td>\n",
       "    </tr>\n",
       "  </tbody>\n",
       "</table>\n",
       "</div>"
      ],
      "text/plain": [
       "                 date Drainage_observed Rain SWC_Simulated_GE15Y        LE  \\\n",
       "1 2013-01-01 00:00:00                 0  1.5               32.85  0.070709   \n",
       "2 2013-01-01 01:00:00                 0  0.9               32.85 -0.112658   \n",
       "3 2013-01-01 02:00:00                 0  1.7               32.85 -0.480248   \n",
       "4 2013-01-01 03:00:00                 0  1.1               32.85 -0.970548   \n",
       "5 2013-01-01 04:00:00                 0  0.1               32.85 -1.572643   \n",
       "\n",
       "         ET  \n",
       "1  0.000103  \n",
       "2 -0.000164  \n",
       "3   -0.0007  \n",
       "4 -0.001415  \n",
       "5 -0.002293  "
      ]
     },
     "execution_count": 4,
     "metadata": {},
     "output_type": "execute_result"
    }
   ],
   "source": [
    "df['ET'] = df['LE'] * 0.035/24\n",
    "df.head()"
   ]
  },
  {
   "cell_type": "code",
   "execution_count": 5,
   "metadata": {},
   "outputs": [
    {
     "data": {
      "text/plain": [
       "(8760, 6)"
      ]
     },
     "execution_count": 5,
     "metadata": {},
     "output_type": "execute_result"
    }
   ],
   "source": [
    "df.shape"
   ]
  },
  {
   "cell_type": "markdown",
   "metadata": {},
   "source": [
    "## Formula 2"
   ]
  },
  {
   "cell_type": "code",
   "execution_count": 6,
   "metadata": {},
   "outputs": [],
   "source": [
    "def formula2(row):\n",
    "    swc_simulated = row['SWC_Simulated_GE15Y']\n",
    "\n",
    "    if swc_simulated >= 32.6:\n",
    "        row['Drinage'] = row['Rain'] - row['ET']\n",
    "    else:\n",
    "        row['Drinage'] = 0\n",
    "\n",
    "    return row['Drinage']"
   ]
  },
  {
   "cell_type": "code",
   "execution_count": 7,
   "metadata": {},
   "outputs": [
    {
     "data": {
      "text/html": [
       "<div>\n",
       "<style scoped>\n",
       "    .dataframe tbody tr th:only-of-type {\n",
       "        vertical-align: middle;\n",
       "    }\n",
       "\n",
       "    .dataframe tbody tr th {\n",
       "        vertical-align: top;\n",
       "    }\n",
       "\n",
       "    .dataframe thead th {\n",
       "        text-align: right;\n",
       "    }\n",
       "</style>\n",
       "<table border=\"1\" class=\"dataframe\">\n",
       "  <thead>\n",
       "    <tr style=\"text-align: right;\">\n",
       "      <th></th>\n",
       "      <th>date</th>\n",
       "      <th>Drainage_observed</th>\n",
       "      <th>Rain</th>\n",
       "      <th>SWC_Simulated_GE15Y</th>\n",
       "      <th>LE</th>\n",
       "      <th>ET</th>\n",
       "      <th>Drinage</th>\n",
       "    </tr>\n",
       "  </thead>\n",
       "  <tbody>\n",
       "    <tr>\n",
       "      <th>1</th>\n",
       "      <td>2013-01-01 00:00:00</td>\n",
       "      <td>0</td>\n",
       "      <td>1.5</td>\n",
       "      <td>32.85</td>\n",
       "      <td>0.070709</td>\n",
       "      <td>0.000103</td>\n",
       "      <td>1.499897</td>\n",
       "    </tr>\n",
       "    <tr>\n",
       "      <th>2</th>\n",
       "      <td>2013-01-01 01:00:00</td>\n",
       "      <td>0</td>\n",
       "      <td>0.9</td>\n",
       "      <td>32.85</td>\n",
       "      <td>-0.112658</td>\n",
       "      <td>-0.000164</td>\n",
       "      <td>0.900164</td>\n",
       "    </tr>\n",
       "    <tr>\n",
       "      <th>3</th>\n",
       "      <td>2013-01-01 02:00:00</td>\n",
       "      <td>0</td>\n",
       "      <td>1.7</td>\n",
       "      <td>32.85</td>\n",
       "      <td>-0.480248</td>\n",
       "      <td>-0.0007</td>\n",
       "      <td>1.700700</td>\n",
       "    </tr>\n",
       "    <tr>\n",
       "      <th>4</th>\n",
       "      <td>2013-01-01 03:00:00</td>\n",
       "      <td>0</td>\n",
       "      <td>1.1</td>\n",
       "      <td>32.85</td>\n",
       "      <td>-0.970548</td>\n",
       "      <td>-0.001415</td>\n",
       "      <td>1.101415</td>\n",
       "    </tr>\n",
       "    <tr>\n",
       "      <th>5</th>\n",
       "      <td>2013-01-01 04:00:00</td>\n",
       "      <td>0</td>\n",
       "      <td>0.1</td>\n",
       "      <td>32.85</td>\n",
       "      <td>-1.572643</td>\n",
       "      <td>-0.002293</td>\n",
       "      <td>0.102293</td>\n",
       "    </tr>\n",
       "  </tbody>\n",
       "</table>\n",
       "</div>"
      ],
      "text/plain": [
       "                 date Drainage_observed Rain SWC_Simulated_GE15Y        LE  \\\n",
       "1 2013-01-01 00:00:00                 0  1.5               32.85  0.070709   \n",
       "2 2013-01-01 01:00:00                 0  0.9               32.85 -0.112658   \n",
       "3 2013-01-01 02:00:00                 0  1.7               32.85 -0.480248   \n",
       "4 2013-01-01 03:00:00                 0  1.1               32.85 -0.970548   \n",
       "5 2013-01-01 04:00:00                 0  0.1               32.85 -1.572643   \n",
       "\n",
       "         ET   Drinage  \n",
       "1  0.000103  1.499897  \n",
       "2 -0.000164  0.900164  \n",
       "3   -0.0007  1.700700  \n",
       "4 -0.001415  1.101415  \n",
       "5 -0.002293  0.102293  "
      ]
     },
     "execution_count": 7,
     "metadata": {},
     "output_type": "execute_result"
    }
   ],
   "source": [
    "df['Drinage'] = df.apply(lambda row: formula2(row), axis=1)\n",
    "df.head()"
   ]
  },
  {
   "cell_type": "code",
   "execution_count": 8,
   "metadata": {},
   "outputs": [],
   "source": [
    "df.to_excel(\"Result.xlsx\", index=False)"
   ]
  },
  {
   "cell_type": "code",
   "execution_count": null,
   "metadata": {},
   "outputs": [],
   "source": []
  }
 ],
 "metadata": {
  "kernelspec": {
   "display_name": "NLP_Datacamp",
   "language": "python",
   "name": "python3"
  },
  "language_info": {
   "codemirror_mode": {
    "name": "ipython",
    "version": 3
   },
   "file_extension": ".py",
   "mimetype": "text/x-python",
   "name": "python",
   "nbconvert_exporter": "python",
   "pygments_lexer": "ipython3",
   "version": "3.9.18"
  }
 },
 "nbformat": 4,
 "nbformat_minor": 2
}
