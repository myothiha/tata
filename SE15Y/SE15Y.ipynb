{
 "cells": [
  {
   "cell_type": "code",
   "execution_count": 1,
   "metadata": {},
   "outputs": [],
   "source": [
    "import pandas as pd\n",
    "import matplotlib.pyplot as plt"
   ]
  },
  {
   "cell_type": "code",
   "execution_count": 2,
   "metadata": {},
   "outputs": [
    {
     "data": {
      "text/html": [
       "<div>\n",
       "<style scoped>\n",
       "    .dataframe tbody tr th:only-of-type {\n",
       "        vertical-align: middle;\n",
       "    }\n",
       "\n",
       "    .dataframe tbody tr th {\n",
       "        vertical-align: top;\n",
       "    }\n",
       "\n",
       "    .dataframe thead th {\n",
       "        text-align: right;\n",
       "    }\n",
       "</style>\n",
       "<table border=\"1\" class=\"dataframe\">\n",
       "  <thead>\n",
       "    <tr style=\"text-align: right;\">\n",
       "      <th></th>\n",
       "      <th>Date</th>\n",
       "      <th>Time</th>\n",
       "      <th>Rg</th>\n",
       "      <th>Ratm</th>\n",
       "      <th>Rn</th>\n",
       "      <th>T_soilref</th>\n",
       "      <th>Ta</th>\n",
       "      <th>RH</th>\n",
       "      <th>uref</th>\n",
       "      <th>LAI_total</th>\n",
       "      <th>...</th>\n",
       "      <th>zref</th>\n",
       "      <th>Rain</th>\n",
       "      <th>O3_concentration</th>\n",
       "      <th>Pesticid_concentration</th>\n",
       "      <th>Pest_soil</th>\n",
       "      <th>NH3_concentration</th>\n",
       "      <th>GammaLeaf_NH3</th>\n",
       "      <th>GammaSoil_NH3</th>\n",
       "      <th>R_litter_NH3</th>\n",
       "      <th>SWC</th>\n",
       "    </tr>\n",
       "  </thead>\n",
       "  <tbody>\n",
       "    <tr>\n",
       "      <th>1</th>\n",
       "      <td>2012-01-01 00:00:00</td>\n",
       "      <td>00:00:00</td>\n",
       "      <td>6999</td>\n",
       "      <td>6999</td>\n",
       "      <td>0</td>\n",
       "      <td>10.248333</td>\n",
       "      <td>11.9</td>\n",
       "      <td>93</td>\n",
       "      <td>4.9</td>\n",
       "      <td>1.5</td>\n",
       "      <td>...</td>\n",
       "      <td>10</td>\n",
       "      <td>0</td>\n",
       "      <td>26.986734</td>\n",
       "      <td>0</td>\n",
       "      <td>0</td>\n",
       "      <td>0</td>\n",
       "      <td>250</td>\n",
       "      <td>3000</td>\n",
       "      <td>0</td>\n",
       "      <td>0.250624</td>\n",
       "    </tr>\n",
       "    <tr>\n",
       "      <th>2</th>\n",
       "      <td>2012-01-01 01:00:00</td>\n",
       "      <td>01:00:00</td>\n",
       "      <td>6999</td>\n",
       "      <td>6999</td>\n",
       "      <td>0</td>\n",
       "      <td>10.332</td>\n",
       "      <td>11.7</td>\n",
       "      <td>95</td>\n",
       "      <td>4.3</td>\n",
       "      <td>1.5</td>\n",
       "      <td>...</td>\n",
       "      <td>10</td>\n",
       "      <td>0</td>\n",
       "      <td>21.272562</td>\n",
       "      <td>0</td>\n",
       "      <td>0</td>\n",
       "      <td>0</td>\n",
       "      <td>250</td>\n",
       "      <td>3000</td>\n",
       "      <td>0</td>\n",
       "      <td>0.250605</td>\n",
       "    </tr>\n",
       "    <tr>\n",
       "      <th>3</th>\n",
       "      <td>2012-01-01 02:00:00</td>\n",
       "      <td>02:00:00</td>\n",
       "      <td>6999</td>\n",
       "      <td>6999</td>\n",
       "      <td>0</td>\n",
       "      <td>10.433333</td>\n",
       "      <td>11.8</td>\n",
       "      <td>94</td>\n",
       "      <td>3.7</td>\n",
       "      <td>1.5</td>\n",
       "      <td>...</td>\n",
       "      <td>10</td>\n",
       "      <td>0</td>\n",
       "      <td>14.972155</td>\n",
       "      <td>0</td>\n",
       "      <td>0</td>\n",
       "      <td>0</td>\n",
       "      <td>250</td>\n",
       "      <td>3000</td>\n",
       "      <td>0</td>\n",
       "      <td>0.250423</td>\n",
       "    </tr>\n",
       "    <tr>\n",
       "      <th>4</th>\n",
       "      <td>2012-01-01 03:00:00</td>\n",
       "      <td>03:00:00</td>\n",
       "      <td>6999</td>\n",
       "      <td>6999</td>\n",
       "      <td>0</td>\n",
       "      <td>10.508</td>\n",
       "      <td>11.7</td>\n",
       "      <td>96</td>\n",
       "      <td>3.5</td>\n",
       "      <td>1.5</td>\n",
       "      <td>...</td>\n",
       "      <td>10</td>\n",
       "      <td>0</td>\n",
       "      <td>16.864317</td>\n",
       "      <td>0</td>\n",
       "      <td>0</td>\n",
       "      <td>0</td>\n",
       "      <td>250</td>\n",
       "      <td>3000</td>\n",
       "      <td>0</td>\n",
       "      <td>0.25038</td>\n",
       "    </tr>\n",
       "    <tr>\n",
       "      <th>5</th>\n",
       "      <td>2012-01-01 04:00:00</td>\n",
       "      <td>04:00:00</td>\n",
       "      <td>6999</td>\n",
       "      <td>6999</td>\n",
       "      <td>0</td>\n",
       "      <td>10.5715</td>\n",
       "      <td>11.8</td>\n",
       "      <td>95</td>\n",
       "      <td>4.2</td>\n",
       "      <td>1.5</td>\n",
       "      <td>...</td>\n",
       "      <td>10</td>\n",
       "      <td>0</td>\n",
       "      <td>24.66009</td>\n",
       "      <td>0</td>\n",
       "      <td>0</td>\n",
       "      <td>0</td>\n",
       "      <td>250</td>\n",
       "      <td>3000</td>\n",
       "      <td>0</td>\n",
       "      <td>0.250372</td>\n",
       "    </tr>\n",
       "  </tbody>\n",
       "</table>\n",
       "<p>5 rows × 25 columns</p>\n",
       "</div>"
      ],
      "text/plain": [
       "                  Date      Time    Rg  Ratm Rn  T_soilref    Ta  RH uref  \\\n",
       "1  2012-01-01 00:00:00  00:00:00  6999  6999  0  10.248333  11.9  93  4.9   \n",
       "2  2012-01-01 01:00:00  01:00:00  6999  6999  0     10.332  11.7  95  4.3   \n",
       "3  2012-01-01 02:00:00  02:00:00  6999  6999  0  10.433333  11.8  94  3.7   \n",
       "4  2012-01-01 03:00:00  03:00:00  6999  6999  0     10.508  11.7  96  3.5   \n",
       "5  2012-01-01 04:00:00  04:00:00  6999  6999  0    10.5715  11.8  95  4.2   \n",
       "\n",
       "  LAI_total  ... zref Rain O3_concentration Pesticid_concentration Pest_soil  \\\n",
       "1       1.5  ...   10    0        26.986734                      0         0   \n",
       "2       1.5  ...   10    0        21.272562                      0         0   \n",
       "3       1.5  ...   10    0        14.972155                      0         0   \n",
       "4       1.5  ...   10    0        16.864317                      0         0   \n",
       "5       1.5  ...   10    0         24.66009                      0         0   \n",
       "\n",
       "  NH3_concentration GammaLeaf_NH3 GammaSoil_NH3 R_litter_NH3       SWC  \n",
       "1                 0           250          3000            0  0.250624  \n",
       "2                 0           250          3000            0  0.250605  \n",
       "3                 0           250          3000            0  0.250423  \n",
       "4                 0           250          3000            0   0.25038  \n",
       "5                 0           250          3000            0  0.250372  \n",
       "\n",
       "[5 rows x 25 columns]"
      ]
     },
     "execution_count": 2,
     "metadata": {},
     "output_type": "execute_result"
    }
   ],
   "source": [
    "df = pd.read_excel('SE15Y.xlsx').drop(index=0)\n",
    "df.head()"
   ]
  },
  {
   "cell_type": "code",
   "execution_count": 3,
   "metadata": {},
   "outputs": [
    {
     "name": "stderr",
     "output_type": "stream",
     "text": [
      "/var/folders/dq/43_5rtyn5lz1p4vkq89ykdw40000gn/T/ipykernel_45511/139071093.py:1: UserWarning: Could not infer format, so each element will be parsed individually, falling back to `dateutil`. To ensure parsing is consistent and as-expected, please specify a format.\n",
      "  df['Time'] = pd.to_datetime(df['Time'].astype(str)).dt.time\n"
     ]
    }
   ],
   "source": [
    "df['Time'] = pd.to_datetime(df['Time'].astype(str)).dt.time"
   ]
  },
  {
   "cell_type": "code",
   "execution_count": 4,
   "metadata": {},
   "outputs": [
    {
     "name": "stderr",
     "output_type": "stream",
     "text": [
      "/var/folders/dq/43_5rtyn5lz1p4vkq89ykdw40000gn/T/ipykernel_45511/3177430883.py:2: UserWarning: Could not infer format, so each element will be parsed individually, falling back to `dateutil`. To ensure parsing is consistent and as-expected, please specify a format.\n",
      "  df['datetime'] = pd.to_datetime(df['datetime'])\n"
     ]
    }
   ],
   "source": [
    "df['datetime'] = df['Date'].astype(str) + \" \" + df['Time'].astype(str)\n",
    "df['datetime'] = pd.to_datetime(df['datetime'])"
   ]
  },
  {
   "cell_type": "code",
   "execution_count": 5,
   "metadata": {},
   "outputs": [
    {
     "data": {
      "text/plain": [
       "Date                         0\n",
       "Time                         0\n",
       "Rg                           0\n",
       "Ratm                         0\n",
       "Rn                         540\n",
       "T_soilref                    0\n",
       "Ta                           0\n",
       "RH                           0\n",
       "uref                         0\n",
       "LAI_total                    0\n",
       "LAI_green                    0\n",
       "displacement_height          0\n",
       "z0_soil                      0\n",
       "z0_canopy                    0\n",
       "zh                           0\n",
       "zref                         0\n",
       "Rain                         0\n",
       "O3_concentration             0\n",
       "Pesticid_concentration       0\n",
       "Pest_soil                    0\n",
       "NH3_concentration            0\n",
       "GammaLeaf_NH3                0\n",
       "GammaSoil_NH3                0\n",
       "R_litter_NH3                 0\n",
       "SWC                       1710\n",
       "datetime                     0\n",
       "dtype: int64"
      ]
     },
     "execution_count": 5,
     "metadata": {},
     "output_type": "execute_result"
    }
   ],
   "source": [
    "df.isna().sum()"
   ]
  },
  {
   "cell_type": "code",
   "execution_count": 6,
   "metadata": {},
   "outputs": [
    {
     "data": {
      "text/plain": [
       "369     NaN\n",
       "370     NaN\n",
       "394     NaN\n",
       "753     NaN\n",
       "777     NaN\n",
       "       ... \n",
       "8314    NaN\n",
       "8650    NaN\n",
       "8722    NaN\n",
       "8724    NaN\n",
       "8746    NaN\n",
       "Name: Rn, Length: 540, dtype: object"
      ]
     },
     "execution_count": 6,
     "metadata": {},
     "output_type": "execute_result"
    }
   ],
   "source": [
    "row_with_missing_Rn = df['Rn'].isna()\n",
    "df[row_with_missing_Rn]['Rn']"
   ]
  },
  {
   "cell_type": "code",
   "execution_count": 7,
   "metadata": {},
   "outputs": [
    {
     "data": {
      "text/plain": [
       "1        0\n",
       "2        1\n",
       "3        2\n",
       "4        3\n",
       "5        4\n",
       "        ..\n",
       "8780    19\n",
       "8781    20\n",
       "8782    21\n",
       "8783    22\n",
       "8784    23\n",
       "Name: datetime, Length: 8784, dtype: int32"
      ]
     },
     "execution_count": 7,
     "metadata": {},
     "output_type": "execute_result"
    }
   ],
   "source": [
    "df['datetime'].dt.hour"
   ]
  },
  {
   "cell_type": "code",
   "execution_count": 8,
   "metadata": {},
   "outputs": [],
   "source": [
    "# Average value for each hour\n",
    "hourly_Rn = df.groupby(df['datetime'].dt.hour)['Rn'].mean()"
   ]
  },
  {
   "cell_type": "code",
   "execution_count": 9,
   "metadata": {},
   "outputs": [
    {
     "data": {
      "text/plain": [
       "0.865047021943574"
      ]
     },
     "execution_count": 9,
     "metadata": {},
     "output_type": "execute_result"
    }
   ],
   "source": [
    "hourly_Rn[5]"
   ]
  },
  {
   "cell_type": "code",
   "execution_count": 10,
   "metadata": {},
   "outputs": [],
   "source": [
    "def custom_fill(row):\n",
    "\n",
    "    current_hour = row['datetime'].hour\n",
    "\n",
    "    if pd.isnull(row['Rn']):\n",
    "        return hourly_Rn[current_hour]\n",
    "    \n",
    "    return row\n",
    "\n",
    "df = df.apply(custom_fill, axis=1)"
   ]
  },
  {
   "cell_type": "code",
   "execution_count": 11,
   "metadata": {},
   "outputs": [
    {
     "data": {
      "text/plain": [
       "array([ 99.7055597 , 154.1909622 , 209.06367213, 254.45214058,\n",
       "       282.08018182, 284.14212209,  50.72785714,  50.78574394,\n",
       "        17.6969967 , 270.26580556,   0.86504702])"
      ]
     },
     "execution_count": 11,
     "metadata": {},
     "output_type": "execute_result"
    }
   ],
   "source": [
    "df[row_with_missing_Rn]['Rn'].unique()"
   ]
  },
  {
   "cell_type": "code",
   "execution_count": 12,
   "metadata": {},
   "outputs": [],
   "source": [
    "df.to_excel('SE15Y_update.xlsx')"
   ]
  }
 ],
 "metadata": {
  "kernelspec": {
   "display_name": "NLP_Datacamp",
   "language": "python",
   "name": "python3"
  },
  "language_info": {
   "codemirror_mode": {
    "name": "ipython",
    "version": 3
   },
   "file_extension": ".py",
   "mimetype": "text/x-python",
   "name": "python",
   "nbconvert_exporter": "python",
   "pygments_lexer": "ipython3",
   "version": "3.9.18"
  }
 },
 "nbformat": 4,
 "nbformat_minor": 2
}
