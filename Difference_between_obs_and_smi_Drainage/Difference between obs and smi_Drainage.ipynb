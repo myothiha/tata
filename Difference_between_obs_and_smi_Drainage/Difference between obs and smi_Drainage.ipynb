{
 "cells": [
  {
   "cell_type": "code",
   "execution_count": 31,
   "metadata": {},
   "outputs": [],
   "source": [
    "import pandas as pd\n",
    "import matplotlib.pyplot as plt"
   ]
  },
  {
   "cell_type": "code",
   "execution_count": 32,
   "metadata": {},
   "outputs": [
    {
     "data": {
      "text/html": [
       "<div>\n",
       "<style scoped>\n",
       "    .dataframe tbody tr th:only-of-type {\n",
       "        vertical-align: middle;\n",
       "    }\n",
       "\n",
       "    .dataframe tbody tr th {\n",
       "        vertical-align: top;\n",
       "    }\n",
       "\n",
       "    .dataframe thead th {\n",
       "        text-align: right;\n",
       "    }\n",
       "</style>\n",
       "<table border=\"1\" class=\"dataframe\">\n",
       "  <thead>\n",
       "    <tr style=\"text-align: right;\">\n",
       "      <th></th>\n",
       "      <th>date</th>\n",
       "      <th>Observation</th>\n",
       "      <th>Green LAI</th>\n",
       "      <th>Simulation_Final</th>\n",
       "      <th>Rain</th>\n",
       "      <th>Drain_Coe1</th>\n",
       "    </tr>\n",
       "  </thead>\n",
       "  <tbody>\n",
       "    <tr>\n",
       "      <th>1</th>\n",
       "      <td>2013-01-01 00:15:00</td>\n",
       "      <td>NaN</td>\n",
       "      <td>0.3</td>\n",
       "      <td>0.299723</td>\n",
       "      <td>0.3</td>\n",
       "      <td>0.299747</td>\n",
       "    </tr>\n",
       "    <tr>\n",
       "      <th>2</th>\n",
       "      <td>2013-01-01 00:30:00</td>\n",
       "      <td>NaN</td>\n",
       "      <td>0.5</td>\n",
       "      <td>0.499721</td>\n",
       "      <td>0.5</td>\n",
       "      <td>0.499743</td>\n",
       "    </tr>\n",
       "    <tr>\n",
       "      <th>3</th>\n",
       "      <td>2013-01-01 00:45:00</td>\n",
       "      <td>NaN</td>\n",
       "      <td>0.4</td>\n",
       "      <td>0.399815</td>\n",
       "      <td>0.4</td>\n",
       "      <td>0.399843</td>\n",
       "    </tr>\n",
       "    <tr>\n",
       "      <th>4</th>\n",
       "      <td>2013-01-01 01:00:00</td>\n",
       "      <td>NaN</td>\n",
       "      <td>0.3</td>\n",
       "      <td>0.299827</td>\n",
       "      <td>0.3</td>\n",
       "      <td>0.299858</td>\n",
       "    </tr>\n",
       "    <tr>\n",
       "      <th>5</th>\n",
       "      <td>2013-01-01 01:15:00</td>\n",
       "      <td>NaN</td>\n",
       "      <td>0.3</td>\n",
       "      <td>0.299744</td>\n",
       "      <td>0.3</td>\n",
       "      <td>0.299770</td>\n",
       "    </tr>\n",
       "  </tbody>\n",
       "</table>\n",
       "</div>"
      ],
      "text/plain": [
       "                 date  Observation  Green LAI  Simulation_Final  Rain  \\\n",
       "1 2013-01-01 00:15:00          NaN        0.3          0.299723   0.3   \n",
       "2 2013-01-01 00:30:00          NaN        0.5          0.499721   0.5   \n",
       "3 2013-01-01 00:45:00          NaN        0.4          0.399815   0.4   \n",
       "4 2013-01-01 01:00:00          NaN        0.3          0.299827   0.3   \n",
       "5 2013-01-01 01:15:00          NaN        0.3          0.299744   0.3   \n",
       "\n",
       "   Drain_Coe1  \n",
       "1    0.299747  \n",
       "2    0.499743  \n",
       "3    0.399843  \n",
       "4    0.299858  \n",
       "5    0.299770  "
      ]
     },
     "execution_count": 32,
     "metadata": {},
     "output_type": "execute_result"
    }
   ],
   "source": [
    "# Load the data and drop the first row if it contains unwanted headers or metadata\n",
    "df = pd.read_excel(\"Drainage_15min_SE15Y.xlsx\").drop(index=0)\n",
    "df.head()"
   ]
  },
  {
   "cell_type": "code",
   "execution_count": 33,
   "metadata": {},
   "outputs": [],
   "source": [
    "# Convert the 'date' column to datetime\n",
    "df['date'] = pd.to_datetime(df['date'])"
   ]
  },
  {
   "cell_type": "code",
   "execution_count": 34,
   "metadata": {},
   "outputs": [
    {
     "data": {
      "text/html": [
       "<div>\n",
       "<style scoped>\n",
       "    .dataframe tbody tr th:only-of-type {\n",
       "        vertical-align: middle;\n",
       "    }\n",
       "\n",
       "    .dataframe tbody tr th {\n",
       "        vertical-align: top;\n",
       "    }\n",
       "\n",
       "    .dataframe thead th {\n",
       "        text-align: right;\n",
       "    }\n",
       "</style>\n",
       "<table border=\"1\" class=\"dataframe\">\n",
       "  <thead>\n",
       "    <tr style=\"text-align: right;\">\n",
       "      <th></th>\n",
       "      <th>date</th>\n",
       "      <th>Observation</th>\n",
       "      <th>Green LAI</th>\n",
       "      <th>Simulation_Final</th>\n",
       "      <th>Rain</th>\n",
       "      <th>Drain_Coe1</th>\n",
       "    </tr>\n",
       "  </thead>\n",
       "  <tbody>\n",
       "    <tr>\n",
       "      <th>1000</th>\n",
       "      <td>2013-01-11 10:00:00</td>\n",
       "      <td>0.00</td>\n",
       "      <td>0.0</td>\n",
       "      <td>0.0</td>\n",
       "      <td>0.0</td>\n",
       "      <td>0.0</td>\n",
       "    </tr>\n",
       "    <tr>\n",
       "      <th>1001</th>\n",
       "      <td>2013-01-11 10:15:00</td>\n",
       "      <td>0.00</td>\n",
       "      <td>0.0</td>\n",
       "      <td>0.0</td>\n",
       "      <td>0.0</td>\n",
       "      <td>0.0</td>\n",
       "    </tr>\n",
       "    <tr>\n",
       "      <th>1002</th>\n",
       "      <td>2013-01-11 10:30:00</td>\n",
       "      <td>0.00</td>\n",
       "      <td>0.0</td>\n",
       "      <td>0.0</td>\n",
       "      <td>0.0</td>\n",
       "      <td>0.0</td>\n",
       "    </tr>\n",
       "    <tr>\n",
       "      <th>1003</th>\n",
       "      <td>2013-01-11 10:45:00</td>\n",
       "      <td>0.01</td>\n",
       "      <td>0.0</td>\n",
       "      <td>0.0</td>\n",
       "      <td>0.0</td>\n",
       "      <td>0.0</td>\n",
       "    </tr>\n",
       "    <tr>\n",
       "      <th>1004</th>\n",
       "      <td>2013-01-11 11:00:00</td>\n",
       "      <td>0.00</td>\n",
       "      <td>0.0</td>\n",
       "      <td>0.0</td>\n",
       "      <td>0.0</td>\n",
       "      <td>0.0</td>\n",
       "    </tr>\n",
       "  </tbody>\n",
       "</table>\n",
       "</div>"
      ],
      "text/plain": [
       "                    date  Observation  Green LAI  Simulation_Final  Rain  \\\n",
       "1000 2013-01-11 10:00:00         0.00        0.0               0.0   0.0   \n",
       "1001 2013-01-11 10:15:00         0.00        0.0               0.0   0.0   \n",
       "1002 2013-01-11 10:30:00         0.00        0.0               0.0   0.0   \n",
       "1003 2013-01-11 10:45:00         0.01        0.0               0.0   0.0   \n",
       "1004 2013-01-11 11:00:00         0.00        0.0               0.0   0.0   \n",
       "\n",
       "      Drain_Coe1  \n",
       "1000         0.0  \n",
       "1001         0.0  \n",
       "1002         0.0  \n",
       "1003         0.0  \n",
       "1004         0.0  "
      ]
     },
     "execution_count": 34,
     "metadata": {},
     "output_type": "execute_result"
    }
   ],
   "source": [
    "# Drop rows with missing values in any of the relevant columns\n",
    "df = df.dropna(subset=['Observation', 'Drain_Coe1'])\n",
    "df.head()"
   ]
  },
  {
   "cell_type": "code",
   "execution_count": 35,
   "metadata": {},
   "outputs": [],
   "source": [
    "df = df.groupby(df['date'].dt.date)[['Observation', 'Drain_Coe1']].sum().reset_index()"
   ]
  },
  {
   "cell_type": "code",
   "execution_count": 36,
   "metadata": {},
   "outputs": [],
   "source": [
    "# Calculate the difference\n",
    "df['Difference'] = df['Drain_Coe1'] - df['Observation'] \n",
    "\n",
    "df.to_excel(\"Drainage_Estimation Error.xlsx\")"
   ]
  },
  {
   "cell_type": "code",
   "execution_count": 37,
   "metadata": {},
   "outputs": [
    {
     "data": {
      "image/png": "[encoded data removed]",
      "text/plain": [
       "<Figure size 1000x600 with 1 Axes>"
      ]
     },
     "metadata": {},
     "output_type": "display_data"
    }
   ],
   "source": [
    "# Create a bar chart of the differences\n",
    "plt.figure(figsize=(10, 6))\n",
    "plt.bar(df['date'], df['Difference'], color='red')\n",
    "plt.xlabel('Days',fontsize= 14 )\n",
    "plt.ylabel('Difference (Simulation - Observation)',fontsize= 14)\n",
    "plt.title('Difference between Simulation & Observation of Drainage over Time_GE15Y',fontsize= 16)\n",
    "\n",
    "# Modify the x-ticks and y-ticks font properties\n",
    "plt.xticks(rotation=45)\n",
    "\n",
    "\n",
    "plt.grid(True)\n",
    "plt.tight_layout()\n",
    "\n",
    "# Show the plot\n",
    "plt.show()"
   ]
  },
  {
   "cell_type": "code",
   "execution_count": null,
   "metadata": {},
   "outputs": [],
   "source": []
  }
 ],
 "metadata": {
  "kernelspec": {
   "display_name": "base",
   "language": "python",
   "name": "python3"
  },
  "language_info": {
   "codemirror_mode": {
    "name": "ipython",
    "version": 3
   },
   "file_extension": ".py",
   "mimetype": "text/x-python",
   "name": "python",
   "nbconvert_exporter": "python",
   "pygments_lexer": "ipython3",
   "version": "3.9.18"
  }
 },
 "nbformat": 4,
 "nbformat_minor": 2
}
