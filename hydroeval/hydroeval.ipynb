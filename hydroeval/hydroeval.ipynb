{
 "cells": [
  {
   "cell_type": "code",
   "execution_count": 42,
   "metadata": {},
   "outputs": [],
   "source": [
    "# !pip3 install hydroeval"
   ]
  },
  {
   "cell_type": "code",
   "execution_count": 53,
   "metadata": {},
   "outputs": [],
   "source": [
    "import pandas as pd\n",
    "import matplotlib.pyplot as plt\n",
    "from matplotlib.lines import Line2D"
   ]
  },
  {
   "cell_type": "code",
   "execution_count": 44,
   "metadata": {},
   "outputs": [
    {
     "data": {
      "text/html": [
       "<div>\n",
       "<style scoped>\n",
       "    .dataframe tbody tr th:only-of-type {\n",
       "        vertical-align: middle;\n",
       "    }\n",
       "\n",
       "    .dataframe tbody tr th {\n",
       "        vertical-align: top;\n",
       "    }\n",
       "\n",
       "    .dataframe thead th {\n",
       "        text-align: right;\n",
       "    }\n",
       "</style>\n",
       "<table border=\"1\" class=\"dataframe\">\n",
       "  <thead>\n",
       "    <tr style=\"text-align: right;\">\n",
       "      <th></th>\n",
       "      <th>Date</th>\n",
       "      <th>Time</th>\n",
       "      <th>SWC_Simulated</th>\n",
       "      <th>SWC_Observed</th>\n",
       "    </tr>\n",
       "  </thead>\n",
       "  <tbody>\n",
       "    <tr>\n",
       "      <th>1</th>\n",
       "      <td>2012-01-01 00:00:00</td>\n",
       "      <td>00:00:00</td>\n",
       "      <td>314.994699</td>\n",
       "      <td>37.59367</td>\n",
       "    </tr>\n",
       "    <tr>\n",
       "      <th>2</th>\n",
       "      <td>2012-01-01 01:00:00</td>\n",
       "      <td>01:00:00</td>\n",
       "      <td>314.99153</td>\n",
       "      <td>37.590812</td>\n",
       "    </tr>\n",
       "    <tr>\n",
       "      <th>3</th>\n",
       "      <td>2012-01-01 02:00:00</td>\n",
       "      <td>02:00:00</td>\n",
       "      <td>314.98772</td>\n",
       "      <td>37.563503</td>\n",
       "    </tr>\n",
       "    <tr>\n",
       "      <th>4</th>\n",
       "      <td>2012-01-01 03:00:00</td>\n",
       "      <td>03:00:00</td>\n",
       "      <td>314.985428</td>\n",
       "      <td>37.556927</td>\n",
       "    </tr>\n",
       "    <tr>\n",
       "      <th>5</th>\n",
       "      <td>2012-01-01 04:00:00</td>\n",
       "      <td>04:00:00</td>\n",
       "      <td>314.982098</td>\n",
       "      <td>37.555765</td>\n",
       "    </tr>\n",
       "  </tbody>\n",
       "</table>\n",
       "</div>"
      ],
      "text/plain": [
       "                  Date      Time SWC_Simulated SWC_Observed\n",
       "1  2012-01-01 00:00:00  00:00:00    314.994699     37.59367\n",
       "2  2012-01-01 01:00:00  01:00:00     314.99153    37.590812\n",
       "3  2012-01-01 02:00:00  02:00:00     314.98772    37.563503\n",
       "4  2012-01-01 03:00:00  03:00:00    314.985428    37.556927\n",
       "5  2012-01-01 04:00:00  04:00:00    314.982098    37.555765"
      ]
     },
     "execution_count": 44,
     "metadata": {},
     "output_type": "execute_result"
    }
   ],
   "source": [
    "df = pd.read_excel(\"SWC_Simulated_Vs_Observed.xlsx\").drop(index=0)\n",
    "df.head()"
   ]
  },
  {
   "cell_type": "code",
   "execution_count": 45,
   "metadata": {},
   "outputs": [
    {
     "data": {
      "text/html": [
       "<div>\n",
       "<style scoped>\n",
       "    .dataframe tbody tr th:only-of-type {\n",
       "        vertical-align: middle;\n",
       "    }\n",
       "\n",
       "    .dataframe tbody tr th {\n",
       "        vertical-align: top;\n",
       "    }\n",
       "\n",
       "    .dataframe thead th {\n",
       "        text-align: right;\n",
       "    }\n",
       "</style>\n",
       "<table border=\"1\" class=\"dataframe\">\n",
       "  <thead>\n",
       "    <tr style=\"text-align: right;\">\n",
       "      <th></th>\n",
       "      <th>Date</th>\n",
       "      <th>Time</th>\n",
       "      <th>SWC_Simulated</th>\n",
       "      <th>SWC_Observed</th>\n",
       "    </tr>\n",
       "  </thead>\n",
       "  <tbody>\n",
       "    <tr>\n",
       "      <th>8780</th>\n",
       "      <td>2012-12-31 19:00:00</td>\n",
       "      <td>1900-12-30 19:00:00</td>\n",
       "      <td>313.903572</td>\n",
       "      <td>42.984704</td>\n",
       "    </tr>\n",
       "    <tr>\n",
       "      <th>8781</th>\n",
       "      <td>2012-12-31 20:00:00</td>\n",
       "      <td>1900-12-30 20:00:00</td>\n",
       "      <td>313.884497</td>\n",
       "      <td>42.9411</td>\n",
       "    </tr>\n",
       "    <tr>\n",
       "      <th>8782</th>\n",
       "      <td>2012-12-31 21:00:00</td>\n",
       "      <td>1900-12-30 21:00:00</td>\n",
       "      <td>314.071221</td>\n",
       "      <td>43.03982</td>\n",
       "    </tr>\n",
       "    <tr>\n",
       "      <th>8783</th>\n",
       "      <td>2012-12-31 22:00:00</td>\n",
       "      <td>1900-12-30 22:00:00</td>\n",
       "      <td>314.661644</td>\n",
       "      <td>43.48528</td>\n",
       "    </tr>\n",
       "    <tr>\n",
       "      <th>8784</th>\n",
       "      <td>2012-12-31 23:00:00</td>\n",
       "      <td>1900-12-30 23:00:00</td>\n",
       "      <td>315</td>\n",
       "      <td>44.160272</td>\n",
       "    </tr>\n",
       "  </tbody>\n",
       "</table>\n",
       "</div>"
      ],
      "text/plain": [
       "                     Date                 Time SWC_Simulated SWC_Observed\n",
       "8780  2012-12-31 19:00:00  1900-12-30 19:00:00    313.903572    42.984704\n",
       "8781  2012-12-31 20:00:00  1900-12-30 20:00:00    313.884497      42.9411\n",
       "8782  2012-12-31 21:00:00  1900-12-30 21:00:00    314.071221     43.03982\n",
       "8783  2012-12-31 22:00:00  1900-12-30 22:00:00    314.661644     43.48528\n",
       "8784  2012-12-31 23:00:00  1900-12-30 23:00:00           315    44.160272"
      ]
     },
     "execution_count": 45,
     "metadata": {},
     "output_type": "execute_result"
    }
   ],
   "source": [
    "df.tail()"
   ]
  },
  {
   "cell_type": "code",
   "execution_count": 46,
   "metadata": {},
   "outputs": [
    {
     "name": "stderr",
     "output_type": "stream",
     "text": [
      "/var/folders/dq/43_5rtyn5lz1p4vkq89ykdw40000gn/T/ipykernel_53417/487983265.py:2: FutureWarning: errors='ignore' is deprecated and will raise in a future version. Use to_numeric without passing `errors` and catch exceptions explicitly instead\n",
      "  df[numeric_columns] = df[numeric_columns].apply(lambda col: pd.to_numeric(col, errors='ignore'))\n"
     ]
    }
   ],
   "source": [
    "numeric_columns = ['SWC_Simulated', 'SWC_Observed']\n",
    "df[numeric_columns] = df[numeric_columns].apply(lambda col: pd.to_numeric(col, errors='ignore'))"
   ]
  },
  {
   "cell_type": "code",
   "execution_count": 47,
   "metadata": {},
   "outputs": [
    {
     "data": {
      "text/plain": [
       "Date             0\n",
       "Time             0\n",
       "SWC_Simulated    0\n",
       "SWC_Observed     0\n",
       "dtype: int64"
      ]
     },
     "execution_count": 47,
     "metadata": {},
     "output_type": "execute_result"
    }
   ],
   "source": [
    "df.isna().sum()"
   ]
  },
  {
   "cell_type": "code",
   "execution_count": 48,
   "metadata": {},
   "outputs": [],
   "source": [
    "simulations = df['SWC_Simulated'].to_list()\n",
    "observations = df['SWC_Observed'].to_list()"
   ]
  },
  {
   "cell_type": "code",
   "execution_count": 49,
   "metadata": {},
   "outputs": [
    {
     "name": "stdout",
     "output_type": "stream",
     "text": [
      "NSE =  [-337.2027651]\n",
      "RMSE =  [262.25579111]\n"
     ]
    }
   ],
   "source": [
    "import hydroeval as he\n",
    "\n",
    "nse = he.evaluator(he.nse, simulations, observations)\n",
    "print(\"NSE = \", nse)\n",
    "\n",
    "rmse = he.evaluator(he.rmse, simulations, observations)\n",
    "print(\"RMSE = \", rmse)\n",
    "\n",
    "kge, r, alpha, beta = he.evaluator(he.kge, simulations, observations)"
   ]
  },
  {
   "cell_type": "code",
   "execution_count": 39,
   "metadata": {},
   "outputs": [
    {
     "data": {
      "text/plain": [
       "(array([-8.77426927]),\n",
       " array([0.33562532]),\n",
       " array([2.58480183]),\n",
       " array([10.62202417]))"
      ]
     },
     "execution_count": 39,
     "metadata": {},
     "output_type": "execute_result"
    }
   ],
   "source": [
    "kge, r, alpha, beta"
   ]
  },
  {
   "cell_type": "code",
   "execution_count": 33,
   "metadata": {},
   "outputs": [],
   "source": [
    "max_val = max([max(observations), max(simulations)])\n",
    "x_coords = [0, max_val]\n",
    "y_coords = [0, max_val]"
   ]
  },
  {
   "cell_type": "code",
   "execution_count": 59,
   "metadata": {},
   "outputs": [
    {
     "data": {
      "image/png": "[encoded data removed]",
      "text/plain": [
       "<Figure size 1000x600 with 1 Axes>"
      ]
     },
     "metadata": {},
     "output_type": "display_data"
    }
   ],
   "source": [
    "plt.figure(figsize=(10, 6))\n",
    "plt.plot(x_coords, y_coords, color='blue', linestyle='--')\n",
    "plt.scatter(observations, simulations, color='#54ab6f') # bar, scatter\n",
    "plt.title('Hourly Average of Rg')  # Add a title\n",
    "plt.xlabel('Observations')  # Add X-axis label\n",
    "plt.ylabel('Simulations')  # Add Y-axis label\n",
    "plt.grid(True)  # Add gridlines (optional)\n",
    "# plt.xticks(rotation=45)  # Rotate X-axis labels for better readability (optional)\n",
    "plt.tight_layout()  # Adjust layout to not cut off labels\n",
    "\n",
    "# Custom legend elements with no line (invisible line)\n",
    "legend_line1 = Line2D([], [], color='none', marker='None', markersize=0)\n",
    "legend_line2 = Line2D([], [], color='none', marker='None', markersize=0)\n",
    "\n",
    "# Creating custom legend labels with no lines\n",
    "custom_legend = [legend_line1, legend_line2]\n",
    "legend_labels = [f'RMSE = {rmse[0]}\\nNSE = {nse[0]}']\n",
    "\n",
    "# Adding the custom legend to the plot\n",
    "plt.legend(custom_legend, legend_labels, loc='upper right', handlelength=0, handletextpad=0, fancybox=True)\n",
    "plt.show()"
   ]
  },
  {
   "cell_type": "code",
   "execution_count": null,
   "metadata": {},
   "outputs": [],
   "source": []
  }
 ],
 "metadata": {
  "kernelspec": {
   "display_name": "NLP_Datacamp",
   "language": "python",
   "name": "python3"
  },
  "language_info": {
   "codemirror_mode": {
    "name": "ipython",
    "version": 3
   },
   "file_extension": ".py",
   "mimetype": "text/x-python",
   "name": "python",
   "nbconvert_exporter": "python",
   "pygments_lexer": "ipython3",
   "version": "3.9.18"
  }
 },
 "nbformat": 4,
 "nbformat_minor": 2
}
