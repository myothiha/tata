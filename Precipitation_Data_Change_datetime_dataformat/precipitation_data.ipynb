{
 "cells": [
  {
   "cell_type": "code",
   "execution_count": 97,
   "metadata": {},
   "outputs": [],
   "source": [
    "import pandas as pd"
   ]
  },
  {
   "cell_type": "code",
   "execution_count": 98,
   "metadata": {},
   "outputs": [
    {
     "data": {
      "text/html": [
       "<div>\n",
       "<style scoped>\n",
       "    .dataframe tbody tr th:only-of-type {\n",
       "        vertical-align: middle;\n",
       "    }\n",
       "\n",
       "    .dataframe tbody tr th {\n",
       "        vertical-align: top;\n",
       "    }\n",
       "\n",
       "    .dataframe thead th {\n",
       "        text-align: right;\n",
       "    }\n",
       "</style>\n",
       "<table border=\"1\" class=\"dataframe\">\n",
       "  <thead>\n",
       "    <tr style=\"text-align: right;\">\n",
       "      <th></th>\n",
       "      <th>datetime</th>\n",
       "      <th>precipitation</th>\n",
       "    </tr>\n",
       "  </thead>\n",
       "  <tbody>\n",
       "    <tr>\n",
       "      <th>0</th>\n",
       "      <td>2023-01-07 17:07:13</td>\n",
       "      <td>0.2</td>\n",
       "    </tr>\n",
       "    <tr>\n",
       "      <th>1</th>\n",
       "      <td>2023-01-07 17:12:34</td>\n",
       "      <td>0.2</td>\n",
       "    </tr>\n",
       "    <tr>\n",
       "      <th>2</th>\n",
       "      <td>2023-01-07 17:23:01</td>\n",
       "      <td>0.2</td>\n",
       "    </tr>\n",
       "    <tr>\n",
       "      <th>3</th>\n",
       "      <td>2023-01-07 18:56:21</td>\n",
       "      <td>0.2</td>\n",
       "    </tr>\n",
       "    <tr>\n",
       "      <th>4</th>\n",
       "      <td>2023-01-07 19:02:41</td>\n",
       "      <td>0.2</td>\n",
       "    </tr>\n",
       "  </tbody>\n",
       "</table>\n",
       "</div>"
      ],
      "text/plain": [
       "             datetime  precipitation\n",
       "0 2023-01-07 17:07:13            0.2\n",
       "1 2023-01-07 17:12:34            0.2\n",
       "2 2023-01-07 17:23:01            0.2\n",
       "3 2023-01-07 18:56:21            0.2\n",
       "4 2023-01-07 19:02:41            0.2"
      ]
     },
     "execution_count": 98,
     "metadata": {},
     "output_type": "execute_result"
    }
   ],
   "source": [
    "df = pd.read_csv('precipitation_data.csv', sep='\\t')\n",
    "df.rename(columns={'DateTime': 'datetime', \"Unnamed: 2\": \"precipitation\"}, inplace=True)\n",
    "df.drop(columns=['Unnamed: 1'], inplace=True)\n",
    "df['datetime'] = df['datetime'].str[:-3]\n",
    "df['datetime'] = pd.to_datetime(df['datetime'], format='%d/%m/%y %H:%M:%S')\n",
    "df.head()"
   ]
  },
  {
   "cell_type": "code",
   "execution_count": 99,
   "metadata": {},
   "outputs": [
    {
     "name": "stdout",
     "output_type": "stream",
     "text": [
      "<class 'pandas.core.frame.DataFrame'>\n",
      "RangeIndex: 1842 entries, 0 to 1841\n",
      "Data columns (total 2 columns):\n",
      " #   Column         Non-Null Count  Dtype         \n",
      "---  ------         --------------  -----         \n",
      " 0   datetime       1842 non-null   datetime64[ns]\n",
      " 1   precipitation  1842 non-null   float64       \n",
      "dtypes: datetime64[ns](1), float64(1)\n",
      "memory usage: 28.9 KB\n"
     ]
    }
   ],
   "source": [
    "df.info()"
   ]
  },
  {
   "cell_type": "code",
   "execution_count": 100,
   "metadata": {},
   "outputs": [
    {
     "data": {
      "text/html": [
       "<div>\n",
       "<style scoped>\n",
       "    .dataframe tbody tr th:only-of-type {\n",
       "        vertical-align: middle;\n",
       "    }\n",
       "\n",
       "    .dataframe tbody tr th {\n",
       "        vertical-align: top;\n",
       "    }\n",
       "\n",
       "    .dataframe thead th {\n",
       "        text-align: right;\n",
       "    }\n",
       "</style>\n",
       "<table border=\"1\" class=\"dataframe\">\n",
       "  <thead>\n",
       "    <tr style=\"text-align: right;\">\n",
       "      <th></th>\n",
       "      <th>datetime</th>\n",
       "      <th>precipitation</th>\n",
       "      <th>new_datetime</th>\n",
       "    </tr>\n",
       "  </thead>\n",
       "  <tbody>\n",
       "    <tr>\n",
       "      <th>0</th>\n",
       "      <td>2023-01-07 17:07:13</td>\n",
       "      <td>0.2</td>\n",
       "      <td>2023-01-07 17:30:00</td>\n",
       "    </tr>\n",
       "    <tr>\n",
       "      <th>1</th>\n",
       "      <td>2023-01-07 17:12:34</td>\n",
       "      <td>0.2</td>\n",
       "      <td>2023-01-07 17:30:00</td>\n",
       "    </tr>\n",
       "    <tr>\n",
       "      <th>2</th>\n",
       "      <td>2023-01-07 17:23:01</td>\n",
       "      <td>0.2</td>\n",
       "      <td>2023-01-07 17:30:00</td>\n",
       "    </tr>\n",
       "    <tr>\n",
       "      <th>3</th>\n",
       "      <td>2023-01-07 18:56:21</td>\n",
       "      <td>0.2</td>\n",
       "      <td>2023-01-07 19:00:00</td>\n",
       "    </tr>\n",
       "    <tr>\n",
       "      <th>4</th>\n",
       "      <td>2023-01-07 19:02:41</td>\n",
       "      <td>0.2</td>\n",
       "      <td>2023-01-07 19:30:00</td>\n",
       "    </tr>\n",
       "    <tr>\n",
       "      <th>...</th>\n",
       "      <td>...</td>\n",
       "      <td>...</td>\n",
       "      <td>...</td>\n",
       "    </tr>\n",
       "    <tr>\n",
       "      <th>1837</th>\n",
       "      <td>2023-08-14 23:15:59</td>\n",
       "      <td>0.2</td>\n",
       "      <td>2023-08-14 23:30:00</td>\n",
       "    </tr>\n",
       "    <tr>\n",
       "      <th>1838</th>\n",
       "      <td>2023-08-14 23:19:28</td>\n",
       "      <td>0.2</td>\n",
       "      <td>2023-08-14 23:30:00</td>\n",
       "    </tr>\n",
       "    <tr>\n",
       "      <th>1839</th>\n",
       "      <td>2023-08-14 23:21:33</td>\n",
       "      <td>0.2</td>\n",
       "      <td>2023-08-14 23:30:00</td>\n",
       "    </tr>\n",
       "    <tr>\n",
       "      <th>1840</th>\n",
       "      <td>2023-08-14 23:23:42</td>\n",
       "      <td>0.2</td>\n",
       "      <td>2023-08-14 23:30:00</td>\n",
       "    </tr>\n",
       "    <tr>\n",
       "      <th>1841</th>\n",
       "      <td>2023-08-16 07:21:01</td>\n",
       "      <td>0.2</td>\n",
       "      <td>2023-08-16 07:30:00</td>\n",
       "    </tr>\n",
       "  </tbody>\n",
       "</table>\n",
       "<p>1842 rows × 3 columns</p>\n",
       "</div>"
      ],
      "text/plain": [
       "                datetime  precipitation        new_datetime\n",
       "0    2023-01-07 17:07:13            0.2 2023-01-07 17:30:00\n",
       "1    2023-01-07 17:12:34            0.2 2023-01-07 17:30:00\n",
       "2    2023-01-07 17:23:01            0.2 2023-01-07 17:30:00\n",
       "3    2023-01-07 18:56:21            0.2 2023-01-07 19:00:00\n",
       "4    2023-01-07 19:02:41            0.2 2023-01-07 19:30:00\n",
       "...                  ...            ...                 ...\n",
       "1837 2023-08-14 23:15:59            0.2 2023-08-14 23:30:00\n",
       "1838 2023-08-14 23:19:28            0.2 2023-08-14 23:30:00\n",
       "1839 2023-08-14 23:21:33            0.2 2023-08-14 23:30:00\n",
       "1840 2023-08-14 23:23:42            0.2 2023-08-14 23:30:00\n",
       "1841 2023-08-16 07:21:01            0.2 2023-08-16 07:30:00\n",
       "\n",
       "[1842 rows x 3 columns]"
      ]
     },
     "execution_count": 100,
     "metadata": {},
     "output_type": "execute_result"
    }
   ],
   "source": [
    "from datetime import timedelta\n",
    "\n",
    "def compute(row):\n",
    "    minute_zero = row.replace(second=0).replace(minute=0)\n",
    "    # row['minute'] = row['datetime'].minute\n",
    "    if row.minute <= 30:\n",
    "        new_datetime = minute_zero + timedelta(minutes=30)\n",
    "    else:\n",
    "        new_datetime = minute_zero + timedelta(hours=1)\n",
    "    return new_datetime\n",
    "\n",
    "df['new_datetime'] = df['datetime'].apply(lambda x: compute(x))\n",
    "df"
   ]
  },
  {
   "cell_type": "code",
   "execution_count": 101,
   "metadata": {},
   "outputs": [
    {
     "data": {
      "text/plain": [
       "0      2023-01-07 17:30:00\n",
       "1      2023-01-07 17:30:00\n",
       "2      2023-01-07 17:30:00\n",
       "3      2023-01-07 19:00:00\n",
       "4      2023-01-07 19:30:00\n",
       "               ...        \n",
       "1837   2023-08-14 23:30:00\n",
       "1838   2023-08-14 23:30:00\n",
       "1839   2023-08-14 23:30:00\n",
       "1840   2023-08-14 23:30:00\n",
       "1841   2023-08-16 07:30:00\n",
       "Name: new_datetime, Length: 1842, dtype: datetime64[ns]"
      ]
     },
     "execution_count": 101,
     "metadata": {},
     "output_type": "execute_result"
    }
   ],
   "source": [
    "df['new_datetime']"
   ]
  },
  {
   "cell_type": "code",
   "execution_count": 105,
   "metadata": {},
   "outputs": [],
   "source": [
    "df = df.groupby(df['new_datetime'])['precipitation'].sum().reset_index()"
   ]
  },
  {
   "cell_type": "markdown",
   "metadata": {},
   "source": [
    "## Filling the missing gaps"
   ]
  },
  {
   "cell_type": "code",
   "execution_count": 107,
   "metadata": {},
   "outputs": [
    {
     "name": "stderr",
     "output_type": "stream",
     "text": [
      "/var/folders/dq/43_5rtyn5lz1p4vkq89ykdw40000gn/T/ipykernel_70047/3201747488.py:5: FutureWarning: 'T' is deprecated and will be removed in a future version, please use 'min' instead.\n",
      "  full_range = pd.date_range(start=start_date, end=end_date, freq='30T')\n"
     ]
    },
    {
     "data": {
      "text/plain": [
       "DatetimeIndex(['2023-01-07 17:30:00', '2023-01-07 18:00:00',\n",
       "               '2023-01-07 18:30:00', '2023-01-07 19:00:00',\n",
       "               '2023-01-07 19:30:00', '2023-01-07 20:00:00',\n",
       "               '2023-01-07 20:30:00', '2023-01-07 21:00:00',\n",
       "               '2023-01-07 21:30:00', '2023-01-07 22:00:00',\n",
       "               ...\n",
       "               '2023-08-16 03:00:00', '2023-08-16 03:30:00',\n",
       "               '2023-08-16 04:00:00', '2023-08-16 04:30:00',\n",
       "               '2023-08-16 05:00:00', '2023-08-16 05:30:00',\n",
       "               '2023-08-16 06:00:00', '2023-08-16 06:30:00',\n",
       "               '2023-08-16 07:00:00', '2023-08-16 07:30:00'],\n",
       "              dtype='datetime64[ns]', length=10589, freq='30min')"
      ]
     },
     "execution_count": 107,
     "metadata": {},
     "output_type": "execute_result"
    }
   ],
   "source": [
    "# Create a complete range of 30-minute intervals\n",
    "start_date = df['new_datetime'].min()\n",
    "end_date = df['new_datetime'].max()\n",
    "\n",
    "full_range = pd.date_range(start=start_date, end=end_date, freq='30T')\n",
    "full_range"
   ]
  },
  {
   "cell_type": "code",
   "execution_count": 108,
   "metadata": {},
   "outputs": [
    {
     "data": {
      "text/html": [
       "<div>\n",
       "<style scoped>\n",
       "    .dataframe tbody tr th:only-of-type {\n",
       "        vertical-align: middle;\n",
       "    }\n",
       "\n",
       "    .dataframe tbody tr th {\n",
       "        vertical-align: top;\n",
       "    }\n",
       "\n",
       "    .dataframe thead th {\n",
       "        text-align: right;\n",
       "    }\n",
       "</style>\n",
       "<table border=\"1\" class=\"dataframe\">\n",
       "  <thead>\n",
       "    <tr style=\"text-align: right;\">\n",
       "      <th></th>\n",
       "      <th>new_datetime</th>\n",
       "      <th>precipitation</th>\n",
       "    </tr>\n",
       "  </thead>\n",
       "  <tbody>\n",
       "    <tr>\n",
       "      <th>0</th>\n",
       "      <td>2023-01-07 17:30:00</td>\n",
       "      <td>0.6</td>\n",
       "    </tr>\n",
       "    <tr>\n",
       "      <th>1</th>\n",
       "      <td>2023-01-07 18:00:00</td>\n",
       "      <td>0.0</td>\n",
       "    </tr>\n",
       "    <tr>\n",
       "      <th>2</th>\n",
       "      <td>2023-01-07 18:30:00</td>\n",
       "      <td>0.0</td>\n",
       "    </tr>\n",
       "    <tr>\n",
       "      <th>3</th>\n",
       "      <td>2023-01-07 19:00:00</td>\n",
       "      <td>0.2</td>\n",
       "    </tr>\n",
       "    <tr>\n",
       "      <th>4</th>\n",
       "      <td>2023-01-07 19:30:00</td>\n",
       "      <td>0.2</td>\n",
       "    </tr>\n",
       "    <tr>\n",
       "      <th>...</th>\n",
       "      <td>...</td>\n",
       "      <td>...</td>\n",
       "    </tr>\n",
       "    <tr>\n",
       "      <th>10584</th>\n",
       "      <td>2023-08-16 05:30:00</td>\n",
       "      <td>0.0</td>\n",
       "    </tr>\n",
       "    <tr>\n",
       "      <th>10585</th>\n",
       "      <td>2023-08-16 06:00:00</td>\n",
       "      <td>0.0</td>\n",
       "    </tr>\n",
       "    <tr>\n",
       "      <th>10586</th>\n",
       "      <td>2023-08-16 06:30:00</td>\n",
       "      <td>0.0</td>\n",
       "    </tr>\n",
       "    <tr>\n",
       "      <th>10587</th>\n",
       "      <td>2023-08-16 07:00:00</td>\n",
       "      <td>0.0</td>\n",
       "    </tr>\n",
       "    <tr>\n",
       "      <th>10588</th>\n",
       "      <td>2023-08-16 07:30:00</td>\n",
       "      <td>0.2</td>\n",
       "    </tr>\n",
       "  </tbody>\n",
       "</table>\n",
       "<p>10589 rows × 2 columns</p>\n",
       "</div>"
      ],
      "text/plain": [
       "             new_datetime  precipitation\n",
       "0     2023-01-07 17:30:00            0.6\n",
       "1     2023-01-07 18:00:00            0.0\n",
       "2     2023-01-07 18:30:00            0.0\n",
       "3     2023-01-07 19:00:00            0.2\n",
       "4     2023-01-07 19:30:00            0.2\n",
       "...                   ...            ...\n",
       "10584 2023-08-16 05:30:00            0.0\n",
       "10585 2023-08-16 06:00:00            0.0\n",
       "10586 2023-08-16 06:30:00            0.0\n",
       "10587 2023-08-16 07:00:00            0.0\n",
       "10588 2023-08-16 07:30:00            0.2\n",
       "\n",
       "[10589 rows x 2 columns]"
      ]
     },
     "execution_count": 108,
     "metadata": {},
     "output_type": "execute_result"
    }
   ],
   "source": [
    "# Reindex the DataFrame to include all intervals\n",
    "df.set_index('new_datetime', inplace=True)\n",
    "df = df.reindex(full_range, fill_value=0).reset_index()\n",
    "df.rename(columns={'index': 'new_datetime'}, inplace=True)\n",
    "df"
   ]
  },
  {
   "cell_type": "code",
   "execution_count": 109,
   "metadata": {},
   "outputs": [],
   "source": [
    "df.to_excel('result.xlsx')"
   ]
  }
 ],
 "metadata": {
  "kernelspec": {
   "display_name": "NLP_Datacamp",
   "language": "python",
   "name": "python3"
  },
  "language_info": {
   "codemirror_mode": {
    "name": "ipython",
    "version": 3
   },
   "file_extension": ".py",
   "mimetype": "text/x-python",
   "name": "python",
   "nbconvert_exporter": "python",
   "pygments_lexer": "ipython3",
   "version": "3.9.18"
  }
 },
 "nbformat": 4,
 "nbformat_minor": 2
}
